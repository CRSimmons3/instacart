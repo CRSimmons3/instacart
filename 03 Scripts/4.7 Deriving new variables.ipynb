{
 "cells": [
  {
   "cell_type": "markdown",
   "id": "2631c828-f532-4729-ba1e-a42882375d92",
   "metadata": {},
   "source": [
    "### Contents\n",
    "\n",
    "01 Import libraries\n",
    "\n",
    "02 Import dataset\n",
    "\n",
    "03 User-defined variables\n",
    "\n",
    "04 Using the .loc() function instead\n",
    "\n",
    "05 Using the .loc() function on the whole dataframe\n",
    "\n",
    "06 If-statements with for-loops\n",
    "\n",
    "07 Task\n",
    "\n",
    "08 Export dataframe"
   ]
  },
  {
   "cell_type": "markdown",
   "id": "df1c79ae-52be-402b-b2be-738f4f8c89f3",
   "metadata": {},
   "source": [
    "01 Import libraries"
   ]
  },
  {
   "cell_type": "code",
   "execution_count": 33,
   "id": "244a18e8-c220-434f-98aa-1596b3b9e9e9",
   "metadata": {},
   "outputs": [],
   "source": [
    "import pandas as pd\n",
    "import numpy as np\n",
    "import os"
   ]
  },
  {
   "cell_type": "markdown",
   "id": "f90fa598-a500-46aa-878d-4cf2ec83e7cc",
   "metadata": {},
   "source": [
    "02 Import dataset"
   ]
  },
  {
   "cell_type": "code",
   "execution_count": 35,
   "id": "a11339a0-84a0-4efb-8492-66340cc09cb8",
   "metadata": {},
   "outputs": [],
   "source": [
    "path = r\"C:\\Users\\cathe\\OneDrive\\Data Analysis\\2 4 Instacart Basket Analysis\\02 Data\""
   ]
  },
  {
   "cell_type": "code",
   "execution_count": 36,
   "id": "7862a0fb-8012-415a-82a1-1d0229b37bc8",
   "metadata": {},
   "outputs": [],
   "source": [
    "df_merge = pd.read_pickle(os.path.join(path, 'Prepared data', 'ords_prods_merge.pkl'))"
   ]
  },
  {
   "cell_type": "code",
   "execution_count": 37,
   "id": "6caccfe9-8785-4540-888c-9e33126e25b1",
   "metadata": {},
   "outputs": [],
   "source": [
    "# Create subset to work with\n",
    "\n",
    "df = df_merge[:1000000]"
   ]
  },
  {
   "cell_type": "code",
   "execution_count": 38,
   "id": "4b905905-4ee6-4f87-a1b2-c1f373baf11c",
   "metadata": {},
   "outputs": [
    {
     "data": {
      "text/plain": [
       "(1000000, 14)"
      ]
     },
     "execution_count": 38,
     "metadata": {},
     "output_type": "execute_result"
    }
   ],
   "source": [
    "df.shape"
   ]
  },
  {
   "cell_type": "markdown",
   "id": "0824241b-92e6-4aed-a50d-eaeeec4ff7e5",
   "metadata": {},
   "source": [
    "03 User-defined variables"
   ]
  },
  {
   "cell_type": "code",
   "execution_count": 40,
   "id": "85bfbeb5-8792-49a6-8420-d220da607070",
   "metadata": {},
   "outputs": [],
   "source": [
    "# Define function categorising price range\n",
    "\n",
    "def price_label(row):\n",
    "\n",
    "    if row['prices'] <= 5:\n",
    "        return 'Low-range product'\n",
    "    elif (row['prices'] > 5) and (row['prices'] <= 15):\n",
    "        return 'Mid-range product'\n",
    "    elif row['prices'] > 15:\n",
    "        return 'High range'\n",
    "    else: return 'Not enough data'"
   ]
  },
  {
   "cell_type": "code",
   "execution_count": 41,
   "id": "82c68282-f800-4d16-9d8a-e52504239383",
   "metadata": {},
   "outputs": [
    {
     "name": "stderr",
     "output_type": "stream",
     "text": [
      "C:\\Users\\cathe\\AppData\\Local\\Temp\\ipykernel_18048\\2177544375.py:3: SettingWithCopyWarning: \n",
      "A value is trying to be set on a copy of a slice from a DataFrame.\n",
      "Try using .loc[row_indexer,col_indexer] = value instead\n",
      "\n",
      "See the caveats in the documentation: https://pandas.pydata.org/pandas-docs/stable/user_guide/indexing.html#returning-a-view-versus-a-copy\n",
      "  df['price_range'] = df.apply(price_label, axis = 1)\n"
     ]
    }
   ],
   "source": [
    "# Apply the function as a new column to the dataframe\n",
    "\n",
    "df['price_range'] = df.apply(price_label, axis = 1)"
   ]
  },
  {
   "cell_type": "code",
   "execution_count": 42,
   "id": "f6f3aba9-e52d-4ddd-bc68-01330730d224",
   "metadata": {},
   "outputs": [
    {
     "data": {
      "text/plain": [
       "price_range\n",
       "Mid-range product    673332\n",
       "Low-range product    314400\n",
       "High range            12268\n",
       "Name: count, dtype: int64"
      ]
     },
     "execution_count": 42,
     "metadata": {},
     "output_type": "execute_result"
    }
   ],
   "source": [
    "df['price_range'].value_counts(dropna = False)"
   ]
  },
  {
   "cell_type": "code",
   "execution_count": 45,
   "id": "b2b0f4b4-560c-4775-b00a-0627ccd0be5a",
   "metadata": {},
   "outputs": [
    {
     "data": {
      "text/plain": [
       "25.0"
      ]
     },
     "execution_count": 45,
     "metadata": {},
     "output_type": "execute_result"
    }
   ],
   "source": [
    "# max price in the subset\n",
    "\n",
    "df['prices'].max()"
   ]
  },
  {
   "cell_type": "markdown",
   "id": "736ce42b-4c99-4728-b0ac-ae7c1738f59b",
   "metadata": {},
   "source": [
    "04 Using the loc() function instead"
   ]
  },
  {
   "cell_type": "code",
   "execution_count": 62,
   "id": "c9ea7475-f19d-49ea-adaa-d5ce613e47b9",
   "metadata": {},
   "outputs": [],
   "source": [
    "df.loc[df['prices'] > 15, 'price_range_loc'] = 'High-range product'"
   ]
  },
  {
   "cell_type": "code",
   "execution_count": 56,
   "id": "a13a51dd-e659-46eb-8e45-b91e3b441f9b",
   "metadata": {},
   "outputs": [],
   "source": [
    "df.loc[(df['prices'] <=15) & (df['prices'] > 5), 'price_range_loc'] = 'Mid-range product'"
   ]
  },
  {
   "cell_type": "code",
   "execution_count": 58,
   "id": "406a95ba-9642-4217-9534-8bf091743cb4",
   "metadata": {},
   "outputs": [],
   "source": [
    "df.loc[df['prices'] <= 5, 'price_range_loc'] = 'Low-range product'"
   ]
  },
  {
   "cell_type": "code",
   "execution_count": 60,
   "id": "856ecc75-7122-4a28-b0b5-4929194a847d",
   "metadata": {},
   "outputs": [
    {
     "data": {
      "text/plain": [
       "price_range_loc\n",
       "Mid-range product     673332\n",
       "Low-range product     314400\n",
       "High-range product     12268\n",
       "Name: count, dtype: int64"
      ]
     },
     "execution_count": 60,
     "metadata": {},
     "output_type": "execute_result"
    }
   ],
   "source": [
    "df['price_range_loc'].value_counts()"
   ]
  },
  {
   "cell_type": "markdown",
   "id": "2dd89634-dec6-4d22-b257-2cec0322b85b",
   "metadata": {},
   "source": [
    "05 Use the loc() function on the complete dataframe, not just the subset"
   ]
  },
  {
   "cell_type": "code",
   "execution_count": 66,
   "id": "311830bb-8c02-41ca-ac44-11b7a148a1e4",
   "metadata": {},
   "outputs": [],
   "source": [
    "df_merge.loc[df_merge['prices'] > 15, 'price_range_loc'] = 'High-range product'"
   ]
  },
  {
   "cell_type": "code",
   "execution_count": 68,
   "id": "9c68bc23-de6e-4b8c-bd03-f0a18818b876",
   "metadata": {},
   "outputs": [],
   "source": [
    "df_merge.loc[(df_merge['prices'] <= 15) & (df_merge['prices'] > 5), 'price_range_loc'] = 'Mid-range product'"
   ]
  },
  {
   "cell_type": "code",
   "execution_count": 70,
   "id": "7af1e034-9f28-47ab-8fda-da7f39458b45",
   "metadata": {},
   "outputs": [],
   "source": [
    "df_merge.loc[df_merge['prices'] <=5, 'price_range_loc'] = 'Low-range product'"
   ]
  },
  {
   "cell_type": "code",
   "execution_count": 73,
   "id": "e3e66d03-9228-4ea8-ace7-7df453a8e205",
   "metadata": {},
   "outputs": [
    {
     "data": {
      "text/plain": [
       "price_range_loc\n",
       "Mid-range product     21865289\n",
       "Low-range product     10126321\n",
       "High-range product      412551\n",
       "Name: count, dtype: int64"
      ]
     },
     "execution_count": 73,
     "metadata": {},
     "output_type": "execute_result"
    }
   ],
   "source": [
    "df_merge['price_range_loc'].value_counts(dropna = False)"
   ]
  },
  {
   "cell_type": "markdown",
   "id": "21348c57-13dd-4bc4-a1e5-9bd06da4741e",
   "metadata": {},
   "source": [
    "06 If-Statements with For-Loops"
   ]
  },
  {
   "cell_type": "code",
   "execution_count": 82,
   "id": "becbdd2a-2916-4bd5-a33b-33e88e2c1656",
   "metadata": {},
   "outputs": [
    {
     "data": {
      "text/plain": [
       "Index(['order_id', 'user_id', 'order_number', 'order_day_of_week',\n",
       "       'order_hour_of_day', 'days_since_prior_order', 'product_id',\n",
       "       'add_to_cart_order', 'reordered', 'product_name', 'aisle_id',\n",
       "       'department_id', 'prices', '_merge', 'price_range_loc'],\n",
       "      dtype='object')"
      ]
     },
     "execution_count": 82,
     "metadata": {},
     "output_type": "execute_result"
    }
   ],
   "source": [
    "df_merge.columns"
   ]
  },
  {
   "cell_type": "code",
   "execution_count": 86,
   "id": "33f1e535-8a94-4288-87cf-ebbb91dcdbc5",
   "metadata": {},
   "outputs": [
    {
     "data": {
      "text/plain": [
       "order_day_of_week\n",
       "0    6204090\n",
       "1    5660099\n",
       "6    4496415\n",
       "2    4213729\n",
       "5    4205663\n",
       "3    3840449\n",
       "4    3783716\n",
       "Name: count, dtype: int64"
      ]
     },
     "execution_count": 86,
     "metadata": {},
     "output_type": "execute_result"
    }
   ],
   "source": [
    "# Find out which days are busiest, least busy\n",
    "\n",
    "df_merge['order_day_of_week'].value_counts(dropna = False)"
   ]
  },
  {
   "cell_type": "code",
   "execution_count": 90,
   "id": "78a8f17e-2255-49c8-9876-3b34801a0739",
   "metadata": {},
   "outputs": [],
   "source": [
    "# For-loop to create list for new column busiest_day\n",
    "\n",
    "result = []\n",
    "\n",
    "for value in df_merge['order_day_of_week']:\n",
    "    if value == 0:\n",
    "        result.append('Busiest day')\n",
    "    elif value == 4:\n",
    "        result.append('Least busy')\n",
    "    else:\n",
    "        result.append('Regularly busy')"
   ]
  },
  {
   "cell_type": "code",
   "execution_count": 98,
   "id": "81dd929b-23e4-4c7c-a2dd-c9393f4f7a9e",
   "metadata": {},
   "outputs": [],
   "source": [
    "# Make list into new column\n",
    "\n",
    "df_merge['busiest_day'] = result"
   ]
  },
  {
   "cell_type": "code",
   "execution_count": 100,
   "id": "3012926a-3eed-4a77-b07b-5d6dbd7898c8",
   "metadata": {},
   "outputs": [
    {
     "data": {
      "text/plain": [
       "busiest_day\n",
       "Regularly busy    22416355\n",
       "Busiest day        6204090\n",
       "Least busy         3783716\n",
       "Name: count, dtype: int64"
      ]
     },
     "execution_count": 100,
     "metadata": {},
     "output_type": "execute_result"
    }
   ],
   "source": [
    "df_merge['busiest_day'].value_counts(dropna = False)"
   ]
  },
  {
   "cell_type": "markdown",
   "id": "08e45ecc-c934-4b8b-83a1-55e76addfc14",
   "metadata": {},
   "source": [
    "07 Task"
   ]
  },
  {
   "cell_type": "code",
   "execution_count": 111,
   "id": "3ba34096-32a7-46e3-b555-95d7638df1c7",
   "metadata": {},
   "outputs": [],
   "source": [
    "# Create list for new column busiest_days\n",
    "\n",
    "result2 = []\n",
    "\n",
    "for value in df_merge['order_day_of_week']:\n",
    "    if value == 0 or value == 1:\n",
    "        result2.append('Busy day')\n",
    "    elif value == 3 or value == 4:\n",
    "        result2.append('Slow day')\n",
    "    else:\n",
    "        result2.append('Regular day')"
   ]
  },
  {
   "cell_type": "code",
   "execution_count": 113,
   "id": "5f988bbb-2193-4373-8c2b-2b84bdf2e02f",
   "metadata": {},
   "outputs": [],
   "source": [
    "# Create column using list\n",
    "\n",
    "df_merge['busiest_days'] = result2"
   ]
  },
  {
   "cell_type": "code",
   "execution_count": 115,
   "id": "bc9b24c3-eeb3-4b95-a803-a63aa7d62010",
   "metadata": {},
   "outputs": [
    {
     "data": {
      "text/plain": [
       "busiest_days\n",
       "Regular day    12915807\n",
       "Busy day       11864189\n",
       "Slow day        7624165\n",
       "Name: count, dtype: int64"
      ]
     },
     "execution_count": 115,
     "metadata": {},
     "output_type": "execute_result"
    }
   ],
   "source": [
    "df_merge['busiest_days'].value_counts()"
   ]
  },
  {
   "cell_type": "markdown",
   "id": "53605cc6-5026-458e-abd2-b8e8da231a63",
   "metadata": {},
   "source": [
    "Q3 The count for Busy day is the sum of the counts for days 0 and 1, as expected.  Similarly the count for Slow day is the sum of the counts for days 3 and 4, the least busy days."
   ]
  },
  {
   "cell_type": "code",
   "execution_count": 119,
   "id": "8cf858b6-d384-46a3-9f8a-6d0506a22e4e",
   "metadata": {},
   "outputs": [
    {
     "data": {
      "text/plain": [
       "order_hour_of_day\n",
       "10    2761700\n",
       "11    2736077\n",
       "14    2689083\n",
       "15    2662082\n",
       "13    2660906\n",
       "12    2618479\n",
       "16    2535141\n",
       "9     2454151\n",
       "17    2087598\n",
       "8     1718068\n",
       "18    1636473\n",
       "19    1258275\n",
       "20     976138\n",
       "7      891030\n",
       "21     795624\n",
       "22     634220\n",
       "23     402310\n",
       "6      290487\n",
       "0      218767\n",
       "1      115700\n",
       "5       87959\n",
       "2       69372\n",
       "4       53241\n",
       "3       51280\n",
       "Name: count, dtype: int64"
      ]
     },
     "execution_count": 119,
     "metadata": {},
     "output_type": "execute_result"
    }
   ],
   "source": [
    "# Frequencies of orders for hours of the day\n",
    "\n",
    "df_merge['order_hour_of_day'].value_counts()"
   ]
  },
  {
   "cell_type": "markdown",
   "id": "57fac147-54de-4990-854b-b0e36c7c2b87",
   "metadata": {},
   "source": [
    "**Suggested periods of time:**<br>\n",
    "10am - 4pm: Most orders (ie 10-15), over 2.6 million orders per hour<br>\n",
    "1am - 6am: Fewest orders (ie 1-5), under 0.12 million orders per hour"
   ]
  },
  {
   "cell_type": "code",
   "execution_count": 123,
   "id": "c90a8b43-72a0-407d-8a21-d3e41d79710c",
   "metadata": {},
   "outputs": [],
   "source": [
    "result3 = []\n",
    "\n",
    "for x in df_merge['order_hour_of_day']:\n",
    "    if x in (1,2,3,4,5):\n",
    "        result3.append('Fewest orders')\n",
    "    elif x in (10,11,12,13,14,15):\n",
    "        result3.append('Most orders')\n",
    "    else:\n",
    "        result3.append('Average orders')"
   ]
  },
  {
   "cell_type": "code",
   "execution_count": 125,
   "id": "092a126e-07bb-440d-9659-bbad8c090214",
   "metadata": {},
   "outputs": [],
   "source": [
    "df_merge['busiest_period_of_day'] = result3"
   ]
  },
  {
   "cell_type": "code",
   "execution_count": 127,
   "id": "ffe57c12-4ddc-4fe5-82ed-0efc6f25ebca",
   "metadata": {},
   "outputs": [
    {
     "data": {
      "text/plain": [
       "busiest_period_of_day\n",
       "Most orders       16128327\n",
       "Average orders    15898282\n",
       "Fewest orders       377552\n",
       "Name: count, dtype: int64"
      ]
     },
     "execution_count": 127,
     "metadata": {},
     "output_type": "execute_result"
    }
   ],
   "source": [
    "df_merge['busiest_period_of_day'].value_counts(dropna = False)"
   ]
  },
  {
   "cell_type": "markdown",
   "id": "a1f07162-5e63-4515-8f6a-d18ca3ccf786",
   "metadata": {},
   "source": [
    "08 Export dataframe"
   ]
  },
  {
   "cell_type": "code",
   "execution_count": 132,
   "id": "a037463f-76cb-4198-8406-00e3dcd18bf6",
   "metadata": {},
   "outputs": [],
   "source": [
    "df_merge.to_pickle(os.path.join(path, 'Prepared Data', 'ords_prods_merge_newcols.pkl'))"
   ]
  }
 ],
 "metadata": {
  "kernelspec": {
   "display_name": "Python [conda env:base] *",
   "language": "python",
   "name": "conda-base-py"
  },
  "language_info": {
   "codemirror_mode": {
    "name": "ipython",
    "version": 3
   },
   "file_extension": ".py",
   "mimetype": "text/x-python",
   "name": "python",
   "nbconvert_exporter": "python",
   "pygments_lexer": "ipython3",
   "version": "3.12.7"
  }
 },
 "nbformat": 4,
 "nbformat_minor": 5
}
