{
 "cells": [
  {
   "cell_type": "markdown",
   "id": "7243d25e-173a-4951-88a0-63b1c82a51ef",
   "metadata": {},
   "source": [
    "### Contents\n",
    "\n",
    "01 Import libraries and dataset\n",
    "\n",
    "02 Wrangling\n",
    "\n",
    "03 Export dataframe"
   ]
  },
  {
   "cell_type": "markdown",
   "id": "75cfa833-73a7-41c7-8cd0-ba2c76e5c794",
   "metadata": {},
   "source": [
    "01 Import libraries and dataset"
   ]
  },
  {
   "cell_type": "code",
   "execution_count": 66,
   "id": "399c2007-db61-4401-ae33-52e08a09f8fd",
   "metadata": {},
   "outputs": [],
   "source": [
    "import pandas as pd\n",
    "import numpy as np\n",
    "import os"
   ]
  },
  {
   "cell_type": "code",
   "execution_count": 67,
   "id": "01339d91-03a3-42a0-9fe0-d126eb48c41b",
   "metadata": {},
   "outputs": [],
   "source": [
    "path = r\"C:\\Users\\cathe\\OneDrive\\Data Analysis\\2 4 Instacart Basket Analysis\\02 Data\""
   ]
  },
  {
   "cell_type": "code",
   "execution_count": 68,
   "id": "4b55a8fd-f00f-4546-a630-d1aa487a5fd7",
   "metadata": {},
   "outputs": [],
   "source": [
    "df = pd.read_csv(os.path.join(path, 'Prepared Data', 'products_checked.csv'), index_col = False)"
   ]
  },
  {
   "cell_type": "code",
   "execution_count": 69,
   "id": "cb3641d8-93d2-46b0-9ae9-8d4a94c85414",
   "metadata": {},
   "outputs": [
    {
     "data": {
      "text/html": [
       "<div>\n",
       "<style scoped>\n",
       "    .dataframe tbody tr th:only-of-type {\n",
       "        vertical-align: middle;\n",
       "    }\n",
       "\n",
       "    .dataframe tbody tr th {\n",
       "        vertical-align: top;\n",
       "    }\n",
       "\n",
       "    .dataframe thead th {\n",
       "        text-align: right;\n",
       "    }\n",
       "</style>\n",
       "<table border=\"1\" class=\"dataframe\">\n",
       "  <thead>\n",
       "    <tr style=\"text-align: right;\">\n",
       "      <th></th>\n",
       "      <th>Unnamed: 0</th>\n",
       "      <th>product_id</th>\n",
       "      <th>product_name</th>\n",
       "      <th>aisle_id</th>\n",
       "      <th>department_id</th>\n",
       "      <th>prices</th>\n",
       "    </tr>\n",
       "  </thead>\n",
       "  <tbody>\n",
       "    <tr>\n",
       "      <th>0</th>\n",
       "      <td>0</td>\n",
       "      <td>1</td>\n",
       "      <td>Chocolate Sandwich Cookies</td>\n",
       "      <td>61</td>\n",
       "      <td>19</td>\n",
       "      <td>5.8</td>\n",
       "    </tr>\n",
       "    <tr>\n",
       "      <th>1</th>\n",
       "      <td>1</td>\n",
       "      <td>2</td>\n",
       "      <td>All-Seasons Salt</td>\n",
       "      <td>104</td>\n",
       "      <td>13</td>\n",
       "      <td>9.3</td>\n",
       "    </tr>\n",
       "    <tr>\n",
       "      <th>2</th>\n",
       "      <td>2</td>\n",
       "      <td>3</td>\n",
       "      <td>Robust Golden Unsweetened Oolong Tea</td>\n",
       "      <td>94</td>\n",
       "      <td>7</td>\n",
       "      <td>4.5</td>\n",
       "    </tr>\n",
       "    <tr>\n",
       "      <th>3</th>\n",
       "      <td>3</td>\n",
       "      <td>4</td>\n",
       "      <td>Smart Ones Classic Favorites Mini Rigatoni Wit...</td>\n",
       "      <td>38</td>\n",
       "      <td>1</td>\n",
       "      <td>10.5</td>\n",
       "    </tr>\n",
       "    <tr>\n",
       "      <th>4</th>\n",
       "      <td>4</td>\n",
       "      <td>5</td>\n",
       "      <td>Green Chile Anytime Sauce</td>\n",
       "      <td>5</td>\n",
       "      <td>13</td>\n",
       "      <td>4.3</td>\n",
       "    </tr>\n",
       "  </tbody>\n",
       "</table>\n",
       "</div>"
      ],
      "text/plain": [
       "   Unnamed: 0  product_id                                       product_name  \\\n",
       "0           0           1                         Chocolate Sandwich Cookies   \n",
       "1           1           2                                   All-Seasons Salt   \n",
       "2           2           3               Robust Golden Unsweetened Oolong Tea   \n",
       "3           3           4  Smart Ones Classic Favorites Mini Rigatoni Wit...   \n",
       "4           4           5                          Green Chile Anytime Sauce   \n",
       "\n",
       "   aisle_id  department_id  prices  \n",
       "0        61             19     5.8  \n",
       "1       104             13     9.3  \n",
       "2        94              7     4.5  \n",
       "3        38              1    10.5  \n",
       "4         5             13     4.3  "
      ]
     },
     "execution_count": 69,
     "metadata": {},
     "output_type": "execute_result"
    }
   ],
   "source": [
    "# Check dataframe\n",
    "\n",
    "df.head()"
   ]
  },
  {
   "cell_type": "markdown",
   "id": "8b58c47d-bf6e-4ae9-ab52-f53d100c0d6d",
   "metadata": {},
   "source": [
    "02 Wrangling"
   ]
  },
  {
   "cell_type": "code",
   "execution_count": 71,
   "id": "10b2bbfa-f5a6-4aa3-93b2-f81600da96f0",
   "metadata": {},
   "outputs": [],
   "source": [
    "# Remove unwanted index column\n",
    "\n",
    "df = df.drop(columns = ['Unnamed: 0'])"
   ]
  },
  {
   "cell_type": "code",
   "execution_count": 72,
   "id": "d40cc196-ecc9-48e5-8a87-b8a51ce75bbe",
   "metadata": {},
   "outputs": [
    {
     "data": {
      "text/html": [
       "<div>\n",
       "<style scoped>\n",
       "    .dataframe tbody tr th:only-of-type {\n",
       "        vertical-align: middle;\n",
       "    }\n",
       "\n",
       "    .dataframe tbody tr th {\n",
       "        vertical-align: top;\n",
       "    }\n",
       "\n",
       "    .dataframe thead th {\n",
       "        text-align: right;\n",
       "    }\n",
       "</style>\n",
       "<table border=\"1\" class=\"dataframe\">\n",
       "  <thead>\n",
       "    <tr style=\"text-align: right;\">\n",
       "      <th></th>\n",
       "      <th>product_id</th>\n",
       "      <th>product_name</th>\n",
       "      <th>aisle_id</th>\n",
       "      <th>department_id</th>\n",
       "      <th>prices</th>\n",
       "    </tr>\n",
       "  </thead>\n",
       "  <tbody>\n",
       "    <tr>\n",
       "      <th>0</th>\n",
       "      <td>1</td>\n",
       "      <td>Chocolate Sandwich Cookies</td>\n",
       "      <td>61</td>\n",
       "      <td>19</td>\n",
       "      <td>5.8</td>\n",
       "    </tr>\n",
       "    <tr>\n",
       "      <th>1</th>\n",
       "      <td>2</td>\n",
       "      <td>All-Seasons Salt</td>\n",
       "      <td>104</td>\n",
       "      <td>13</td>\n",
       "      <td>9.3</td>\n",
       "    </tr>\n",
       "    <tr>\n",
       "      <th>2</th>\n",
       "      <td>3</td>\n",
       "      <td>Robust Golden Unsweetened Oolong Tea</td>\n",
       "      <td>94</td>\n",
       "      <td>7</td>\n",
       "      <td>4.5</td>\n",
       "    </tr>\n",
       "    <tr>\n",
       "      <th>3</th>\n",
       "      <td>4</td>\n",
       "      <td>Smart Ones Classic Favorites Mini Rigatoni Wit...</td>\n",
       "      <td>38</td>\n",
       "      <td>1</td>\n",
       "      <td>10.5</td>\n",
       "    </tr>\n",
       "    <tr>\n",
       "      <th>4</th>\n",
       "      <td>5</td>\n",
       "      <td>Green Chile Anytime Sauce</td>\n",
       "      <td>5</td>\n",
       "      <td>13</td>\n",
       "      <td>4.3</td>\n",
       "    </tr>\n",
       "  </tbody>\n",
       "</table>\n",
       "</div>"
      ],
      "text/plain": [
       "   product_id                                       product_name  aisle_id  \\\n",
       "0           1                         Chocolate Sandwich Cookies        61   \n",
       "1           2                                   All-Seasons Salt       104   \n",
       "2           3               Robust Golden Unsweetened Oolong Tea        94   \n",
       "3           4  Smart Ones Classic Favorites Mini Rigatoni Wit...        38   \n",
       "4           5                          Green Chile Anytime Sauce         5   \n",
       "\n",
       "   department_id  prices  \n",
       "0             19     5.8  \n",
       "1             13     9.3  \n",
       "2              7     4.5  \n",
       "3              1    10.5  \n",
       "4             13     4.3  "
      ]
     },
     "execution_count": 72,
     "metadata": {},
     "output_type": "execute_result"
    }
   ],
   "source": [
    "df.head()"
   ]
  },
  {
   "cell_type": "code",
   "execution_count": 73,
   "id": "b08c6f16-e7eb-4c79-8045-bedec74d9738",
   "metadata": {},
   "outputs": [
    {
     "data": {
      "text/html": [
       "<div>\n",
       "<style scoped>\n",
       "    .dataframe tbody tr th:only-of-type {\n",
       "        vertical-align: middle;\n",
       "    }\n",
       "\n",
       "    .dataframe tbody tr th {\n",
       "        vertical-align: top;\n",
       "    }\n",
       "\n",
       "    .dataframe thead th {\n",
       "        text-align: right;\n",
       "    }\n",
       "</style>\n",
       "<table border=\"1\" class=\"dataframe\">\n",
       "  <thead>\n",
       "    <tr style=\"text-align: right;\">\n",
       "      <th></th>\n",
       "      <th>product_id</th>\n",
       "      <th>aisle_id</th>\n",
       "      <th>department_id</th>\n",
       "      <th>prices</th>\n",
       "    </tr>\n",
       "  </thead>\n",
       "  <tbody>\n",
       "    <tr>\n",
       "      <th>count</th>\n",
       "      <td>49672.000000</td>\n",
       "      <td>49672.000000</td>\n",
       "      <td>49672.000000</td>\n",
       "      <td>49672.000000</td>\n",
       "    </tr>\n",
       "    <tr>\n",
       "      <th>mean</th>\n",
       "      <td>24850.349775</td>\n",
       "      <td>67.762442</td>\n",
       "      <td>11.728942</td>\n",
       "      <td>9.993282</td>\n",
       "    </tr>\n",
       "    <tr>\n",
       "      <th>std</th>\n",
       "      <td>14340.705287</td>\n",
       "      <td>38.315784</td>\n",
       "      <td>5.850779</td>\n",
       "      <td>453.615536</td>\n",
       "    </tr>\n",
       "    <tr>\n",
       "      <th>min</th>\n",
       "      <td>1.000000</td>\n",
       "      <td>1.000000</td>\n",
       "      <td>1.000000</td>\n",
       "      <td>1.000000</td>\n",
       "    </tr>\n",
       "    <tr>\n",
       "      <th>25%</th>\n",
       "      <td>12432.750000</td>\n",
       "      <td>35.000000</td>\n",
       "      <td>7.000000</td>\n",
       "      <td>4.100000</td>\n",
       "    </tr>\n",
       "    <tr>\n",
       "      <th>50%</th>\n",
       "      <td>24850.500000</td>\n",
       "      <td>69.000000</td>\n",
       "      <td>13.000000</td>\n",
       "      <td>7.100000</td>\n",
       "    </tr>\n",
       "    <tr>\n",
       "      <th>75%</th>\n",
       "      <td>37268.250000</td>\n",
       "      <td>100.000000</td>\n",
       "      <td>17.000000</td>\n",
       "      <td>11.100000</td>\n",
       "    </tr>\n",
       "    <tr>\n",
       "      <th>max</th>\n",
       "      <td>49688.000000</td>\n",
       "      <td>134.000000</td>\n",
       "      <td>21.000000</td>\n",
       "      <td>99999.000000</td>\n",
       "    </tr>\n",
       "  </tbody>\n",
       "</table>\n",
       "</div>"
      ],
      "text/plain": [
       "         product_id      aisle_id  department_id        prices\n",
       "count  49672.000000  49672.000000   49672.000000  49672.000000\n",
       "mean   24850.349775     67.762442      11.728942      9.993282\n",
       "std    14340.705287     38.315784       5.850779    453.615536\n",
       "min        1.000000      1.000000       1.000000      1.000000\n",
       "25%    12432.750000     35.000000       7.000000      4.100000\n",
       "50%    24850.500000     69.000000      13.000000      7.100000\n",
       "75%    37268.250000    100.000000      17.000000     11.100000\n",
       "max    49688.000000    134.000000      21.000000  99999.000000"
      ]
     },
     "execution_count": 73,
     "metadata": {},
     "output_type": "execute_result"
    }
   ],
   "source": [
    "df.describe()"
   ]
  },
  {
   "cell_type": "code",
   "execution_count": 74,
   "id": "9a7e2a36-3c7a-408b-82df-67e7cc2da718",
   "metadata": {},
   "outputs": [],
   "source": [
    "df_too_big = df[df['prices'] == 99999]"
   ]
  },
  {
   "cell_type": "code",
   "execution_count": 75,
   "id": "573adf94-b131-4c3c-86f0-9944d5d49d82",
   "metadata": {},
   "outputs": [
    {
     "data": {
      "text/html": [
       "<div>\n",
       "<style scoped>\n",
       "    .dataframe tbody tr th:only-of-type {\n",
       "        vertical-align: middle;\n",
       "    }\n",
       "\n",
       "    .dataframe tbody tr th {\n",
       "        vertical-align: top;\n",
       "    }\n",
       "\n",
       "    .dataframe thead th {\n",
       "        text-align: right;\n",
       "    }\n",
       "</style>\n",
       "<table border=\"1\" class=\"dataframe\">\n",
       "  <thead>\n",
       "    <tr style=\"text-align: right;\">\n",
       "      <th></th>\n",
       "      <th>product_id</th>\n",
       "      <th>product_name</th>\n",
       "      <th>aisle_id</th>\n",
       "      <th>department_id</th>\n",
       "      <th>prices</th>\n",
       "    </tr>\n",
       "  </thead>\n",
       "  <tbody>\n",
       "    <tr>\n",
       "      <th>33649</th>\n",
       "      <td>33664</td>\n",
       "      <td>2 % Reduced Fat  Milk</td>\n",
       "      <td>84</td>\n",
       "      <td>16</td>\n",
       "      <td>99999.0</td>\n",
       "    </tr>\n",
       "  </tbody>\n",
       "</table>\n",
       "</div>"
      ],
      "text/plain": [
       "       product_id           product_name  aisle_id  department_id   prices\n",
       "33649       33664  2 % Reduced Fat  Milk        84             16  99999.0"
      ]
     },
     "execution_count": 75,
     "metadata": {},
     "output_type": "execute_result"
    }
   ],
   "source": [
    "df_too_big"
   ]
  },
  {
   "cell_type": "code",
   "execution_count": 76,
   "id": "7698b7ae-62ab-40e4-ad9f-3ed3ff2a2a08",
   "metadata": {},
   "outputs": [],
   "source": [
    "df_new = df[df['prices'] != 99999]"
   ]
  },
  {
   "cell_type": "code",
   "execution_count": 77,
   "id": "911385d9-891e-433a-a480-85b6f4a148ac",
   "metadata": {},
   "outputs": [
    {
     "data": {
      "text/html": [
       "<div>\n",
       "<style scoped>\n",
       "    .dataframe tbody tr th:only-of-type {\n",
       "        vertical-align: middle;\n",
       "    }\n",
       "\n",
       "    .dataframe tbody tr th {\n",
       "        vertical-align: top;\n",
       "    }\n",
       "\n",
       "    .dataframe thead th {\n",
       "        text-align: right;\n",
       "    }\n",
       "</style>\n",
       "<table border=\"1\" class=\"dataframe\">\n",
       "  <thead>\n",
       "    <tr style=\"text-align: right;\">\n",
       "      <th></th>\n",
       "      <th>product_id</th>\n",
       "      <th>aisle_id</th>\n",
       "      <th>department_id</th>\n",
       "      <th>prices</th>\n",
       "    </tr>\n",
       "  </thead>\n",
       "  <tbody>\n",
       "    <tr>\n",
       "      <th>count</th>\n",
       "      <td>49671.000000</td>\n",
       "      <td>49671.000000</td>\n",
       "      <td>49671.000000</td>\n",
       "      <td>49671.000000</td>\n",
       "    </tr>\n",
       "    <tr>\n",
       "      <th>mean</th>\n",
       "      <td>24850.172334</td>\n",
       "      <td>67.762115</td>\n",
       "      <td>11.728856</td>\n",
       "      <td>7.980256</td>\n",
       "    </tr>\n",
       "    <tr>\n",
       "      <th>std</th>\n",
       "      <td>14340.795118</td>\n",
       "      <td>38.316100</td>\n",
       "      <td>5.850806</td>\n",
       "      <td>66.952504</td>\n",
       "    </tr>\n",
       "    <tr>\n",
       "      <th>min</th>\n",
       "      <td>1.000000</td>\n",
       "      <td>1.000000</td>\n",
       "      <td>1.000000</td>\n",
       "      <td>1.000000</td>\n",
       "    </tr>\n",
       "    <tr>\n",
       "      <th>25%</th>\n",
       "      <td>12432.500000</td>\n",
       "      <td>35.000000</td>\n",
       "      <td>7.000000</td>\n",
       "      <td>4.100000</td>\n",
       "    </tr>\n",
       "    <tr>\n",
       "      <th>50%</th>\n",
       "      <td>24850.000000</td>\n",
       "      <td>69.000000</td>\n",
       "      <td>13.000000</td>\n",
       "      <td>7.100000</td>\n",
       "    </tr>\n",
       "    <tr>\n",
       "      <th>75%</th>\n",
       "      <td>37268.500000</td>\n",
       "      <td>100.000000</td>\n",
       "      <td>17.000000</td>\n",
       "      <td>11.100000</td>\n",
       "    </tr>\n",
       "    <tr>\n",
       "      <th>max</th>\n",
       "      <td>49688.000000</td>\n",
       "      <td>134.000000</td>\n",
       "      <td>21.000000</td>\n",
       "      <td>14900.000000</td>\n",
       "    </tr>\n",
       "  </tbody>\n",
       "</table>\n",
       "</div>"
      ],
      "text/plain": [
       "         product_id      aisle_id  department_id        prices\n",
       "count  49671.000000  49671.000000   49671.000000  49671.000000\n",
       "mean   24850.172334     67.762115      11.728856      7.980256\n",
       "std    14340.795118     38.316100       5.850806     66.952504\n",
       "min        1.000000      1.000000       1.000000      1.000000\n",
       "25%    12432.500000     35.000000       7.000000      4.100000\n",
       "50%    24850.000000     69.000000      13.000000      7.100000\n",
       "75%    37268.500000    100.000000      17.000000     11.100000\n",
       "max    49688.000000    134.000000      21.000000  14900.000000"
      ]
     },
     "execution_count": 77,
     "metadata": {},
     "output_type": "execute_result"
    }
   ],
   "source": [
    "df_new.describe()"
   ]
  },
  {
   "cell_type": "code",
   "execution_count": 78,
   "id": "84d878ac-c661-4e9e-9b9a-7362228abb77",
   "metadata": {},
   "outputs": [
    {
     "data": {
      "text/plain": [
       "prices\n",
       "2.5        470\n",
       "5.3        458\n",
       "6.2        451\n",
       "2.6        447\n",
       "5.4        444\n",
       "          ... \n",
       "15.6         1\n",
       "21.0         1\n",
       "99999.0      1\n",
       "14900.0      1\n",
       "18.3         1\n",
       "Name: count, Length: 242, dtype: int64"
      ]
     },
     "execution_count": 78,
     "metadata": {},
     "output_type": "execute_result"
    }
   ],
   "source": [
    "df['prices'].value_counts(dropna = False)"
   ]
  },
  {
   "cell_type": "markdown",
   "id": "b5103eba-9c07-4b56-965f-c94f9e3ae7b4",
   "metadata": {},
   "source": [
    "The prices above are not sorted, so this list might be hiding extra wrong figures"
   ]
  },
  {
   "cell_type": "code",
   "execution_count": 80,
   "id": "069ca25d-54ac-454e-b1ae-a51a94aba6d2",
   "metadata": {},
   "outputs": [],
   "source": [
    "# Sorting by price\n",
    "\n",
    "df_sorted = df_new.sort_values(by = 'prices')"
   ]
  },
  {
   "cell_type": "code",
   "execution_count": 81,
   "id": "256deb49-8272-462f-a42d-076d6778a26c",
   "metadata": {},
   "outputs": [
    {
     "data": {
      "text/html": [
       "<div>\n",
       "<style scoped>\n",
       "    .dataframe tbody tr th:only-of-type {\n",
       "        vertical-align: middle;\n",
       "    }\n",
       "\n",
       "    .dataframe tbody tr th {\n",
       "        vertical-align: top;\n",
       "    }\n",
       "\n",
       "    .dataframe thead th {\n",
       "        text-align: right;\n",
       "    }\n",
       "</style>\n",
       "<table border=\"1\" class=\"dataframe\">\n",
       "  <thead>\n",
       "    <tr style=\"text-align: right;\">\n",
       "      <th></th>\n",
       "      <th>product_id</th>\n",
       "      <th>product_name</th>\n",
       "      <th>aisle_id</th>\n",
       "      <th>department_id</th>\n",
       "      <th>prices</th>\n",
       "    </tr>\n",
       "  </thead>\n",
       "  <tbody>\n",
       "    <tr>\n",
       "      <th>9005</th>\n",
       "      <td>9020</td>\n",
       "      <td>Boneless Skinless Chicken Thighs</td>\n",
       "      <td>35</td>\n",
       "      <td>12</td>\n",
       "      <td>25.0</td>\n",
       "    </tr>\n",
       "    <tr>\n",
       "      <th>19376</th>\n",
       "      <td>19391</td>\n",
       "      <td>Turkey Breast Tenderloins</td>\n",
       "      <td>49</td>\n",
       "      <td>12</td>\n",
       "      <td>25.0</td>\n",
       "    </tr>\n",
       "    <tr>\n",
       "      <th>21452</th>\n",
       "      <td>21467</td>\n",
       "      <td>Wild Caught Raw Shrimp</td>\n",
       "      <td>15</td>\n",
       "      <td>12</td>\n",
       "      <td>25.0</td>\n",
       "    </tr>\n",
       "    <tr>\n",
       "      <th>40469</th>\n",
       "      <td>40486</td>\n",
       "      <td>Chicken Tenders</td>\n",
       "      <td>49</td>\n",
       "      <td>12</td>\n",
       "      <td>25.0</td>\n",
       "    </tr>\n",
       "    <tr>\n",
       "      <th>21538</th>\n",
       "      <td>21553</td>\n",
       "      <td>Lowfat 2% Milkfat Cottage Cheese</td>\n",
       "      <td>108</td>\n",
       "      <td>16</td>\n",
       "      <td>14900.0</td>\n",
       "    </tr>\n",
       "  </tbody>\n",
       "</table>\n",
       "</div>"
      ],
      "text/plain": [
       "       product_id                      product_name  aisle_id  department_id  \\\n",
       "9005         9020  Boneless Skinless Chicken Thighs        35             12   \n",
       "19376       19391         Turkey Breast Tenderloins        49             12   \n",
       "21452       21467            Wild Caught Raw Shrimp        15             12   \n",
       "40469       40486                   Chicken Tenders        49             12   \n",
       "21538       21553  Lowfat 2% Milkfat Cottage Cheese       108             16   \n",
       "\n",
       "        prices  \n",
       "9005      25.0  \n",
       "19376     25.0  \n",
       "21452     25.0  \n",
       "40469     25.0  \n",
       "21538  14900.0  "
      ]
     },
     "execution_count": 81,
     "metadata": {},
     "output_type": "execute_result"
    }
   ],
   "source": [
    "df_sorted.tail()"
   ]
  },
  {
   "cell_type": "markdown",
   "id": "77640b18-3f87-4684-8d38-0f3817607834",
   "metadata": {},
   "source": [
    "This confirms that 14900 is the last remaining obviously-wrong price.  I could remove this row, or assume that it is meant to read 14.9"
   ]
  },
  {
   "cell_type": "code",
   "execution_count": 83,
   "id": "23f64fa9-829f-47a6-8fa1-986f1756d124",
   "metadata": {},
   "outputs": [],
   "source": [
    "# Update the price for product_id = 21553\n",
    "\n",
    "df_new.loc[df_new['product_id'] == 21553, 'prices'] = 14.9"
   ]
  },
  {
   "cell_type": "code",
   "execution_count": 84,
   "id": "7b13c69c-d0a4-4413-81db-8ce35836c272",
   "metadata": {},
   "outputs": [
    {
     "name": "stdout",
     "output_type": "stream",
     "text": [
      "       product_id                      product_name  aisle_id  department_id  \\\n",
      "21538       21553  Lowfat 2% Milkfat Cottage Cheese       108             16   \n",
      "\n",
      "       prices  \n",
      "21538    14.9  \n"
     ]
    }
   ],
   "source": [
    "# Verify the change\n",
    "\n",
    "print(df_new[df_new['product_id'] == 21553])"
   ]
  },
  {
   "cell_type": "code",
   "execution_count": 85,
   "id": "bd33636d-222e-48a6-b47d-3e17274043a5",
   "metadata": {},
   "outputs": [
    {
     "data": {
      "text/html": [
       "<div>\n",
       "<style scoped>\n",
       "    .dataframe tbody tr th:only-of-type {\n",
       "        vertical-align: middle;\n",
       "    }\n",
       "\n",
       "    .dataframe tbody tr th {\n",
       "        vertical-align: top;\n",
       "    }\n",
       "\n",
       "    .dataframe thead th {\n",
       "        text-align: right;\n",
       "    }\n",
       "</style>\n",
       "<table border=\"1\" class=\"dataframe\">\n",
       "  <thead>\n",
       "    <tr style=\"text-align: right;\">\n",
       "      <th></th>\n",
       "      <th>product_id</th>\n",
       "      <th>aisle_id</th>\n",
       "      <th>department_id</th>\n",
       "      <th>prices</th>\n",
       "    </tr>\n",
       "  </thead>\n",
       "  <tbody>\n",
       "    <tr>\n",
       "      <th>count</th>\n",
       "      <td>49671.000000</td>\n",
       "      <td>49671.000000</td>\n",
       "      <td>49671.000000</td>\n",
       "      <td>49671.000000</td>\n",
       "    </tr>\n",
       "    <tr>\n",
       "      <th>mean</th>\n",
       "      <td>24850.172334</td>\n",
       "      <td>67.762115</td>\n",
       "      <td>11.728856</td>\n",
       "      <td>7.680582</td>\n",
       "    </tr>\n",
       "    <tr>\n",
       "      <th>std</th>\n",
       "      <td>14340.795118</td>\n",
       "      <td>38.316100</td>\n",
       "      <td>5.850806</td>\n",
       "      <td>4.199464</td>\n",
       "    </tr>\n",
       "    <tr>\n",
       "      <th>min</th>\n",
       "      <td>1.000000</td>\n",
       "      <td>1.000000</td>\n",
       "      <td>1.000000</td>\n",
       "      <td>1.000000</td>\n",
       "    </tr>\n",
       "    <tr>\n",
       "      <th>25%</th>\n",
       "      <td>12432.500000</td>\n",
       "      <td>35.000000</td>\n",
       "      <td>7.000000</td>\n",
       "      <td>4.100000</td>\n",
       "    </tr>\n",
       "    <tr>\n",
       "      <th>50%</th>\n",
       "      <td>24850.000000</td>\n",
       "      <td>69.000000</td>\n",
       "      <td>13.000000</td>\n",
       "      <td>7.100000</td>\n",
       "    </tr>\n",
       "    <tr>\n",
       "      <th>75%</th>\n",
       "      <td>37268.500000</td>\n",
       "      <td>100.000000</td>\n",
       "      <td>17.000000</td>\n",
       "      <td>11.100000</td>\n",
       "    </tr>\n",
       "    <tr>\n",
       "      <th>max</th>\n",
       "      <td>49688.000000</td>\n",
       "      <td>134.000000</td>\n",
       "      <td>21.000000</td>\n",
       "      <td>25.000000</td>\n",
       "    </tr>\n",
       "  </tbody>\n",
       "</table>\n",
       "</div>"
      ],
      "text/plain": [
       "         product_id      aisle_id  department_id        prices\n",
       "count  49671.000000  49671.000000   49671.000000  49671.000000\n",
       "mean   24850.172334     67.762115      11.728856      7.680582\n",
       "std    14340.795118     38.316100       5.850806      4.199464\n",
       "min        1.000000      1.000000       1.000000      1.000000\n",
       "25%    12432.500000     35.000000       7.000000      4.100000\n",
       "50%    24850.000000     69.000000      13.000000      7.100000\n",
       "75%    37268.500000    100.000000      17.000000     11.100000\n",
       "max    49688.000000    134.000000      21.000000     25.000000"
      ]
     },
     "execution_count": 85,
     "metadata": {},
     "output_type": "execute_result"
    }
   ],
   "source": [
    "df_new.describe()"
   ]
  },
  {
   "cell_type": "markdown",
   "id": "d4e27d80-bba6-4a6f-86c7-022993251522",
   "metadata": {},
   "source": [
    "03 Export dataframe"
   ]
  },
  {
   "cell_type": "code",
   "execution_count": 109,
   "id": "c1193add-eb2e-4370-86a3-8202a48574a0",
   "metadata": {},
   "outputs": [],
   "source": [
    "df_new.to_csv(os.path.join(path, 'Prepared Data', 'products_checked_cleaned.csv'))"
   ]
  },
  {
   "cell_type": "code",
   "execution_count": null,
   "id": "54cdad4a-7637-4442-afb5-f8322e88e6e6",
   "metadata": {},
   "outputs": [],
   "source": []
  }
 ],
 "metadata": {
  "kernelspec": {
   "display_name": "Python [conda env:base] *",
   "language": "python",
   "name": "conda-base-py"
  },
  "language_info": {
   "codemirror_mode": {
    "name": "ipython",
    "version": 3
   },
   "file_extension": ".py",
   "mimetype": "text/x-python",
   "name": "python",
   "nbconvert_exporter": "python",
   "pygments_lexer": "ipython3",
   "version": "3.12.7"
  }
 },
 "nbformat": 4,
 "nbformat_minor": 5
}
