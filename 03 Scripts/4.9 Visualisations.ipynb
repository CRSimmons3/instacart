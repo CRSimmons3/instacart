{
 "cells": [
  {
   "cell_type": "markdown",
   "id": "46c72480-5633-48d8-9218-ba7bc58116cb",
   "metadata": {},
   "source": [
    "### Contents\n",
    "\n",
    "01 Import libraries and data\n",
    "\n",
    "02 Bar charts\n",
    "\n",
    "03 Histograms and scatterplots\n",
    "\n",
    "04 Sampling\n",
    "\n",
    "05 Line chart"
   ]
  },
  {
   "cell_type": "markdown",
   "id": "66dc9c51-8163-499c-a9ff-534d72c6881c",
   "metadata": {},
   "source": [
    "### 01 Import libraries and data"
   ]
  },
  {
   "cell_type": "code",
   "execution_count": 2,
   "id": "b1d3f19f-9e80-4ad2-ba48-168269ae15be",
   "metadata": {},
   "outputs": [],
   "source": [
    "# Import libraries\n",
    "\n",
    "import pandas as pd\n",
    "import numpy as np\n",
    "import os\n",
    "import matplotlib.pyplot as plt\n",
    "import seaborn as sns\n",
    "import scipy"
   ]
  },
  {
   "cell_type": "code",
   "execution_count": 19,
   "id": "93d26d3f-549c-4791-9e98-43195a657e28",
   "metadata": {},
   "outputs": [],
   "source": [
    "# Create path\n",
    "\n",
    "path = r\"C:\\Users\\cathe\\OneDrive\\Data Analysis\\2 4 Instacart Basket Analysis\""
   ]
  },
  {
   "cell_type": "code",
   "execution_count": 6,
   "id": "5ccb6a74-71b6-4e31-a8f6-777dead3b333",
   "metadata": {},
   "outputs": [],
   "source": [
    "# Import data\n",
    "\n",
    "df = pd.read_pickle(os.path.join(path, 'Prepared Data', 'ords_prods_merge_200225_2.pkl'))"
   ]
  },
  {
   "cell_type": "code",
   "execution_count": 7,
   "id": "1a46a0da-cae4-4fef-9e1b-067dda362bd0",
   "metadata": {},
   "outputs": [
    {
     "data": {
      "text/plain": [
       "(32404161, 23)"
      ]
     },
     "execution_count": 7,
     "metadata": {},
     "output_type": "execute_result"
    }
   ],
   "source": [
    "df.shape"
   ]
  },
  {
   "cell_type": "code",
   "execution_count": 10,
   "id": "13fb2a30-3b7c-4719-90ab-06670dd1e103",
   "metadata": {},
   "outputs": [
    {
     "data": {
      "text/html": [
       "<div>\n",
       "<style scoped>\n",
       "    .dataframe tbody tr th:only-of-type {\n",
       "        vertical-align: middle;\n",
       "    }\n",
       "\n",
       "    .dataframe tbody tr th {\n",
       "        vertical-align: top;\n",
       "    }\n",
       "\n",
       "    .dataframe thead th {\n",
       "        text-align: right;\n",
       "    }\n",
       "</style>\n",
       "<table border=\"1\" class=\"dataframe\">\n",
       "  <thead>\n",
       "    <tr style=\"text-align: right;\">\n",
       "      <th></th>\n",
       "      <th>order_id</th>\n",
       "      <th>user_id</th>\n",
       "      <th>order_number</th>\n",
       "      <th>order_day_of_week</th>\n",
       "      <th>order_hour_of_day</th>\n",
       "      <th>days_since_prior_order</th>\n",
       "      <th>product_id</th>\n",
       "      <th>add_to_cart_order</th>\n",
       "      <th>reordered</th>\n",
       "      <th>product_name</th>\n",
       "      <th>...</th>\n",
       "      <th>price_range_loc</th>\n",
       "      <th>busiest_day</th>\n",
       "      <th>busiest_days</th>\n",
       "      <th>busiest_period_of_day</th>\n",
       "      <th>max_order</th>\n",
       "      <th>loyalty_flag</th>\n",
       "      <th>av_item_spend</th>\n",
       "      <th>spend_level</th>\n",
       "      <th>median_days_since_prior_order</th>\n",
       "      <th>order_frequency</th>\n",
       "    </tr>\n",
       "  </thead>\n",
       "  <tbody>\n",
       "    <tr>\n",
       "      <th>0</th>\n",
       "      <td>2539329</td>\n",
       "      <td>1</td>\n",
       "      <td>1</td>\n",
       "      <td>2</td>\n",
       "      <td>8</td>\n",
       "      <td>NaN</td>\n",
       "      <td>196</td>\n",
       "      <td>1</td>\n",
       "      <td>0</td>\n",
       "      <td>Soda</td>\n",
       "      <td>...</td>\n",
       "      <td>Mid-range product</td>\n",
       "      <td>Regularly busy</td>\n",
       "      <td>Regular day</td>\n",
       "      <td>Average orders</td>\n",
       "      <td>10</td>\n",
       "      <td>New customer</td>\n",
       "      <td>6.367797</td>\n",
       "      <td>Low spender</td>\n",
       "      <td>20.5</td>\n",
       "      <td>Non-frequent customer</td>\n",
       "    </tr>\n",
       "    <tr>\n",
       "      <th>1</th>\n",
       "      <td>2539329</td>\n",
       "      <td>1</td>\n",
       "      <td>1</td>\n",
       "      <td>2</td>\n",
       "      <td>8</td>\n",
       "      <td>NaN</td>\n",
       "      <td>14084</td>\n",
       "      <td>2</td>\n",
       "      <td>0</td>\n",
       "      <td>Organic Unsweetened Vanilla Almond Milk</td>\n",
       "      <td>...</td>\n",
       "      <td>Mid-range product</td>\n",
       "      <td>Regularly busy</td>\n",
       "      <td>Regular day</td>\n",
       "      <td>Average orders</td>\n",
       "      <td>10</td>\n",
       "      <td>New customer</td>\n",
       "      <td>6.367797</td>\n",
       "      <td>Low spender</td>\n",
       "      <td>20.5</td>\n",
       "      <td>Non-frequent customer</td>\n",
       "    </tr>\n",
       "    <tr>\n",
       "      <th>2</th>\n",
       "      <td>2539329</td>\n",
       "      <td>1</td>\n",
       "      <td>1</td>\n",
       "      <td>2</td>\n",
       "      <td>8</td>\n",
       "      <td>NaN</td>\n",
       "      <td>12427</td>\n",
       "      <td>3</td>\n",
       "      <td>0</td>\n",
       "      <td>Original Beef Jerky</td>\n",
       "      <td>...</td>\n",
       "      <td>Low-range product</td>\n",
       "      <td>Regularly busy</td>\n",
       "      <td>Regular day</td>\n",
       "      <td>Average orders</td>\n",
       "      <td>10</td>\n",
       "      <td>New customer</td>\n",
       "      <td>6.367797</td>\n",
       "      <td>Low spender</td>\n",
       "      <td>20.5</td>\n",
       "      <td>Non-frequent customer</td>\n",
       "    </tr>\n",
       "    <tr>\n",
       "      <th>3</th>\n",
       "      <td>2539329</td>\n",
       "      <td>1</td>\n",
       "      <td>1</td>\n",
       "      <td>2</td>\n",
       "      <td>8</td>\n",
       "      <td>NaN</td>\n",
       "      <td>26088</td>\n",
       "      <td>4</td>\n",
       "      <td>0</td>\n",
       "      <td>Aged White Cheddar Popcorn</td>\n",
       "      <td>...</td>\n",
       "      <td>Low-range product</td>\n",
       "      <td>Regularly busy</td>\n",
       "      <td>Regular day</td>\n",
       "      <td>Average orders</td>\n",
       "      <td>10</td>\n",
       "      <td>New customer</td>\n",
       "      <td>6.367797</td>\n",
       "      <td>Low spender</td>\n",
       "      <td>20.5</td>\n",
       "      <td>Non-frequent customer</td>\n",
       "    </tr>\n",
       "    <tr>\n",
       "      <th>4</th>\n",
       "      <td>2539329</td>\n",
       "      <td>1</td>\n",
       "      <td>1</td>\n",
       "      <td>2</td>\n",
       "      <td>8</td>\n",
       "      <td>NaN</td>\n",
       "      <td>26405</td>\n",
       "      <td>5</td>\n",
       "      <td>0</td>\n",
       "      <td>XL Pick-A-Size Paper Towel Rolls</td>\n",
       "      <td>...</td>\n",
       "      <td>Low-range product</td>\n",
       "      <td>Regularly busy</td>\n",
       "      <td>Regular day</td>\n",
       "      <td>Average orders</td>\n",
       "      <td>10</td>\n",
       "      <td>New customer</td>\n",
       "      <td>6.367797</td>\n",
       "      <td>Low spender</td>\n",
       "      <td>20.5</td>\n",
       "      <td>Non-frequent customer</td>\n",
       "    </tr>\n",
       "  </tbody>\n",
       "</table>\n",
       "<p>5 rows × 23 columns</p>\n",
       "</div>"
      ],
      "text/plain": [
       "   order_id  user_id  order_number  order_day_of_week  order_hour_of_day  \\\n",
       "0   2539329        1             1                  2                  8   \n",
       "1   2539329        1             1                  2                  8   \n",
       "2   2539329        1             1                  2                  8   \n",
       "3   2539329        1             1                  2                  8   \n",
       "4   2539329        1             1                  2                  8   \n",
       "\n",
       "   days_since_prior_order  product_id  add_to_cart_order  reordered  \\\n",
       "0                     NaN         196                  1          0   \n",
       "1                     NaN       14084                  2          0   \n",
       "2                     NaN       12427                  3          0   \n",
       "3                     NaN       26088                  4          0   \n",
       "4                     NaN       26405                  5          0   \n",
       "\n",
       "                              product_name  ...    price_range_loc  \\\n",
       "0                                     Soda  ...  Mid-range product   \n",
       "1  Organic Unsweetened Vanilla Almond Milk  ...  Mid-range product   \n",
       "2                      Original Beef Jerky  ...  Low-range product   \n",
       "3               Aged White Cheddar Popcorn  ...  Low-range product   \n",
       "4         XL Pick-A-Size Paper Towel Rolls  ...  Low-range product   \n",
       "\n",
       "      busiest_day  busiest_days busiest_period_of_day max_order  loyalty_flag  \\\n",
       "0  Regularly busy   Regular day        Average orders        10  New customer   \n",
       "1  Regularly busy   Regular day        Average orders        10  New customer   \n",
       "2  Regularly busy   Regular day        Average orders        10  New customer   \n",
       "3  Regularly busy   Regular day        Average orders        10  New customer   \n",
       "4  Regularly busy   Regular day        Average orders        10  New customer   \n",
       "\n",
       "  av_item_spend  spend_level median_days_since_prior_order  \\\n",
       "0      6.367797  Low spender                          20.5   \n",
       "1      6.367797  Low spender                          20.5   \n",
       "2      6.367797  Low spender                          20.5   \n",
       "3      6.367797  Low spender                          20.5   \n",
       "4      6.367797  Low spender                          20.5   \n",
       "\n",
       "         order_frequency  \n",
       "0  Non-frequent customer  \n",
       "1  Non-frequent customer  \n",
       "2  Non-frequent customer  \n",
       "3  Non-frequent customer  \n",
       "4  Non-frequent customer  \n",
       "\n",
       "[5 rows x 23 columns]"
      ]
     },
     "execution_count": 10,
     "metadata": {},
     "output_type": "execute_result"
    }
   ],
   "source": [
    "df.head()"
   ]
  },
  {
   "cell_type": "markdown",
   "id": "0e29c0a7-9b58-4962-8dac-56786d8a9f94",
   "metadata": {},
   "source": [
    "### 02 Bar charts"
   ]
  },
  {
   "cell_type": "code",
   "execution_count": 13,
   "id": "c6832862-000b-4399-ae06-a9071d6a1e15",
   "metadata": {},
   "outputs": [
    {
     "data": {
      "text/plain": [
       "<Axes: xlabel='order_day_of_week'>"
      ]
     },
     "execution_count": 13,
     "metadata": {},
     "output_type": "execute_result"
    },
    {
     "data": {
      "image/png": "[encoded data removed]",
      "text/plain": [
       "<Figure size 640x480 with 1 Axes>"
      ]
     },
     "metadata": {},
     "output_type": "display_data"
    }
   ],
   "source": [
    "# Bar chart days of the week\n",
    "\n",
    "df['order_day_of_week'].value_counts().plot.bar()"
   ]
  },
  {
   "cell_type": "code",
   "execution_count": 15,
   "id": "bce4f4dd-f463-45c5-be17-f74c184785ff",
   "metadata": {},
   "outputs": [
    {
     "data": {
      "text/plain": [
       "<Axes: xlabel='order_day_of_week'>"
      ]
     },
     "execution_count": 15,
     "metadata": {},
     "output_type": "execute_result"
    },
    {
     "data": {
      "image/png": "[encoded data removed]",
      "text/plain": [
       "<Figure size 640x480 with 1 Axes>"
      ]
     },
     "metadata": {},
     "output_type": "display_data"
    }
   ],
   "source": [
    "# Bar chart of days of the week, in order\n",
    "\n",
    "df['order_day_of_week'].value_counts().sort_index().plot.bar()"
   ]
  },
  {
   "cell_type": "code",
   "execution_count": 23,
   "id": "1e4682f0-a643-4305-8463-73789a0cc666",
   "metadata": {},
   "outputs": [
    {
     "data": {
      "image/png": "[encoded data removed]",
      "text/plain": [
       "<Figure size 640x480 with 1 Axes>"
      ]
     },
     "metadata": {},
     "output_type": "display_data"
    }
   ],
   "source": [
    "# With colour added\n",
    "\n",
    "bar = df['order_day_of_week'].value_counts().sort_index().plot.bar(color = ['blue', 'blue', 'orange', 'orange', 'orange', 'orange', 'orange'])"
   ]
  },
  {
   "cell_type": "code",
   "execution_count": 27,
   "id": "c26fbe50-7d91-4165-ba43-c13653cf5e92",
   "metadata": {},
   "outputs": [],
   "source": [
    "# Export bar chart to Visualisations folder\n",
    "\n",
    "bar.figure.savefig(os.path.join(path, '04 Analysis', 'Visualisations', 'bar_orders_dow.png'))"
   ]
  },
  {
   "cell_type": "markdown",
   "id": "eaa39967-9a6a-47ed-a894-fef7826e3655",
   "metadata": {},
   "source": [
    "### 03 Histograms and Scatterplots"
   ]
  },
  {
   "cell_type": "code",
   "execution_count": 35,
   "id": "88ff4878-d166-4f80-9caa-3865a7503dab",
   "metadata": {},
   "outputs": [
    {
     "data": {
      "image/png": "[encoded data removed]",
      "text/plain": [
       "<Figure size 640x480 with 1 Axes>"
      ]
     },
     "metadata": {},
     "output_type": "display_data"
    }
   ],
   "source": [
    "# Histogram of prices\n",
    "\n",
    "hist = df['prices'].plot.hist(bins = 25)"
   ]
  },
  {
   "cell_type": "code",
   "execution_count": 32,
   "id": "1ecc18a6-58f1-4800-ab76-fdc981b54cd3",
   "metadata": {},
   "outputs": [
    {
     "data": {
      "text/plain": [
       "<Axes: xlabel='order_day_of_week', ylabel='order_hour_of_day'>"
      ]
     },
     "execution_count": 32,
     "metadata": {},
     "output_type": "execute_result"
    },
    {
     "data": {
      "image/png": "[encoded data removed]",
      "text/plain": [
       "<Figure size 640x480 with 1 Axes>"
      ]
     },
     "metadata": {},
     "output_type": "display_data"
    }
   ],
   "source": [
    "# Scatterplot of day of week against hour of day\n",
    "\n",
    "sns.scatterplot(x = 'order_day_of_week', y = 'order_hour_of_day', data = df)"
   ]
  },
  {
   "cell_type": "markdown",
   "id": "07344ae0-5c37-48ad-bd55-41ad1609b220",
   "metadata": {},
   "source": [
    "Not particularly useful, especially for the length of time it took to plot, since there's no way to identify how many datapoints are represented by each dot on the plot!\n",
    "\n",
    "However, it does show that every hour of the week, somone is ordering something somewhere!"
   ]
  },
  {
   "cell_type": "code",
   "execution_count": 37,
   "id": "b6ff6c45-3fec-49bf-acdd-40dc2236f46a",
   "metadata": {},
   "outputs": [],
   "source": [
    "# Export histogram\n",
    "\n",
    "hist.figure.savefig(os.path.join(path, '04 Analysis', 'Visualisations', 'hist_prices.png'))"
   ]
  },
  {
   "cell_type": "markdown",
   "id": "1aecb49a-62eb-4eae-ae43-b659b4ba6138",
   "metadata": {},
   "source": [
    "### 04 Sampling"
   ]
  },
  {
   "cell_type": "code",
   "execution_count": 48,
   "id": "f05d232c-772f-4963-a30d-5c2243316588",
   "metadata": {},
   "outputs": [],
   "source": [
    "# Set up for 70:30 split of dataframe\n",
    "\n",
    "np.random.seed(4)\n",
    "dev = np.random.rand(len(df)) <= 0.7"
   ]
  },
  {
   "cell_type": "code",
   "execution_count": 50,
   "id": "71ec17ef-af4c-4934-b79f-12630b52991a",
   "metadata": {},
   "outputs": [
    {
     "data": {
      "text/plain": [
       "array([False,  True, False, ...,  True,  True, False])"
      ]
     },
     "execution_count": 50,
     "metadata": {},
     "output_type": "execute_result"
    }
   ],
   "source": [
    "dev"
   ]
  },
  {
   "cell_type": "code",
   "execution_count": 52,
   "id": "6c064f97-fc22-4ce5-b955-8eee0bfad23c",
   "metadata": {},
   "outputs": [],
   "source": [
    "# Store 70% sample in the dataframe big\n",
    "\n",
    "big = df[dev]"
   ]
  },
  {
   "cell_type": "code",
   "execution_count": 53,
   "id": "45842838-d2bc-4331-afd5-effdf02e770c",
   "metadata": {},
   "outputs": [],
   "source": [
    "# Store the 30% sample in the dataframe small\n",
    "\n",
    "small = df[~dev]"
   ]
  },
  {
   "cell_type": "code",
   "execution_count": 62,
   "id": "2bdf4baf-276a-4fc5-a495-eb0add518b92",
   "metadata": {},
   "outputs": [
    {
     "data": {
      "text/plain": [
       "True"
      ]
     },
     "execution_count": 62,
     "metadata": {},
     "output_type": "execute_result"
    }
   ],
   "source": [
    "# Check the result\n",
    "\n",
    "len(big) + len(small) == len(df)"
   ]
  },
  {
   "cell_type": "code",
   "execution_count": 64,
   "id": "9d14753f-f13c-4ad3-87e0-e346dab56c93",
   "metadata": {},
   "outputs": [],
   "source": [
    "# Reduce small sample to only columns needed\n",
    "\n",
    "df_s = small[['order_day_of_week', 'prices']]"
   ]
  },
  {
   "cell_type": "markdown",
   "id": "5cd705e4-1b01-46ae-a9cb-304d7b00e2aa",
   "metadata": {},
   "source": [
    "### 05 Line chart"
   ]
  },
  {
   "cell_type": "code",
   "execution_count": 66,
   "id": "3a200992-89c7-4467-a206-9e204a8e60e7",
   "metadata": {},
   "outputs": [
    {
     "data": {
      "image/png": "[encoded data removed]",
      "text/plain": [
       "<Figure size 640x480 with 1 Axes>"
      ]
     },
     "metadata": {},
     "output_type": "display_data"
    }
   ],
   "source": [
    "# Create line chart of prices of orders over days of the week\n",
    "\n",
    "line = sns.lineplot(data = df_s, x = 'order_day_of_week', y = 'prices')"
   ]
  },
  {
   "cell_type": "markdown",
   "id": "fc90f7bb-1329-4582-891c-7b9014bde5fe",
   "metadata": {},
   "source": [
    "Note: to check how representative the chart is, we could create a similar line chart with the big sample.  (This could take a long time in practice!)"
   ]
  },
  {
   "cell_type": "markdown",
   "id": "08f643b2-7f9a-411d-9c3a-fa9114339ced",
   "metadata": {},
   "source": [
    "### 06 Export the dataframe"
   ]
  },
  {
   "cell_type": "markdown",
   "id": "f4ac75b9-2f17-44fd-a6d9-3e14d05a0a77",
   "metadata": {},
   "source": [
    "Not needed since no changes made"
   ]
  }
 ],
 "metadata": {
  "kernelspec": {
   "display_name": "Python [conda env:base] *",
   "language": "python",
   "name": "conda-base-py"
  },
  "language_info": {
   "codemirror_mode": {
    "name": "ipython",
    "version": 3
   },
   "file_extension": ".py",
   "mimetype": "text/x-python",
   "name": "python",
   "nbconvert_exporter": "python",
   "pygments_lexer": "ipython3",
   "version": "3.12.7"
  }
 },
 "nbformat": 4,
 "nbformat_minor": 5
}
